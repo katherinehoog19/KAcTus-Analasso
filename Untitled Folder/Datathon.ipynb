{
 "cells": [
  {
   "cell_type": "code",
   "execution_count": 1,
   "id": "65303238",
   "metadata": {},
   "outputs": [],
   "source": [
    "import numpy as np\n",
    "import matplotlib.pyplot as pp\n",
    "import pandas as pd \n",
    "import zipfile\n",
    "import os "
   ]
  },
  {
   "cell_type": "code",
   "execution_count": 3,
   "id": "619d876f",
   "metadata": {},
   "outputs": [],
   "source": [
    "zip_file_path = '/Volumes/Untitled/Data/EDGE_GEOCODE_PUBLICLEA_1718.zip'\n",
    "\n",
    "if os.path.exists(zip_file_path):\n",
    "    with zipfile.ZipFile(zip_file_path, 'r') as zip_ref:\n",
    "        zip_ref.extractall('.')\n",
    "else:\n",
    "    print(\"The specified ZIP file does not exist.\")"
   ]
  },
  {
   "cell_type": "code",
   "execution_count": 5,
   "id": "43d471c5",
   "metadata": {},
   "outputs": [],
   "source": [
    "xlsx_file_path = '/Volumes/Untitled/Data/Untitled Folder/EDGE_GEOCODE_PUBLICLEA_1718/EDGE_GEOCODE_PUBLICLEA_1718.xlsx'\n",
    "\n",
    "xlsx_file = pd.read_excel(xlsx_file_path);\n",
    "xlsx_file.to_csv(\"EDGE_GEOCODE_PUBLICLEA_1718.csv\", index=False)"
   ]
  },
  {
   "cell_type": "code",
   "execution_count": 12,
   "id": "d174e914",
   "metadata": {},
   "outputs": [
    {
     "name": "stdout",
     "output_type": "stream",
     "text": [
      "1237 rows with STATE equal to TEXAS were written to Texas_GEOCODE.csv\n"
     ]
    }
   ],
   "source": [
    "# Define the input and output file paths\n",
    "input_csv = 'EDGE_GEOCODE_PUBLICLEA_1718.csv'  # Replace with the path to your input CSV file\n",
    "output_csv = 'Texas_GEOCODE.csv'  # Replace with the desired path for the output CSV file\n",
    "\n",
    "# Read the input CSV file into a DataFrame\n",
    "df = pd.read_csv(input_csv)\n",
    "\n",
    "# Filter the DataFrame to include only rows where STATE is equal to \"TEXAS\"\n",
    "texas_data = df[df['STATE'] == 'TX']\n",
    "\n",
    "# Write the filtered data to the output CSV file\n",
    "texas_data.to_csv(output_csv, index=False)\n",
    "\n",
    "print(f'{len(texas_data)} rows with STATE equal to TEXAS were written to {output_csv}')"
   ]
  },
  {
   "cell_type": "code",
   "execution_count": 13,
   "id": "4c8ae06e",
   "metadata": {},
   "outputs": [
    {
     "name": "stdout",
     "output_type": "stream",
     "text": [
      "1168 rows with STATE equal to California were written to California_GEOCODE.csv\n"
     ]
    }
   ],
   "source": [
    "# Define the input and output file paths\n",
    "input_csv = 'EDGE_GEOCODE_PUBLICLEA_1718.csv'  # Replace with the path to your input CSV file\n",
    "output_csv = 'California_GEOCODE.csv'  # Replace with the desired path for the output CSV file\n",
    "\n",
    "# Read the input CSV file into a DataFrame\n",
    "df = pd.read_csv(input_csv)\n",
    "\n",
    "# Filter the DataFrame to include only rows where STATE is equal to \"California\"\n",
    "cali_data = df[df['STATE'] == 'CA']\n",
    "\n",
    "# Write the filtered data to the output CSV file\n",
    "cali_data.to_csv(output_csv, index=False)\n",
    "\n",
    "print(f'{len(cali_data)} rows with STATE equal to California were written to {output_csv}')"
   ]
  },
  {
   "cell_type": "code",
   "execution_count": 14,
   "id": "60aebf18",
   "metadata": {},
   "outputs": [
    {
     "name": "stdout",
     "output_type": "stream",
     "text": [
      "83 rows with STATE equal to Florida were written to Florida_GEOCODE.csv\n"
     ]
    }
   ],
   "source": [
    "# Define the input and output file paths\n",
    "input_csv = 'EDGE_GEOCODE_PUBLICLEA_1718.csv'  # Replace with the path to your input CSV file\n",
    "output_csv = 'Florida_GEOCODE.csv'  # Replace with the desired path for the output CSV file\n",
    "\n",
    "# Read the input CSV file into a DataFrame\n",
    "df = pd.read_csv(input_csv)\n",
    "\n",
    "# Filter the DataFrame to include only rows where STATE is equal to \"Florida\"\n",
    "florida_data = df[df['STATE'] == 'FL']\n",
    "\n",
    "# Write the filtered data to the output CSV file\n",
    "florida_data.to_csv(output_csv, index=False)\n",
    "\n",
    "print(f'{len(florida_data)} rows with STATE equal to Florida were written to {output_csv}')"
   ]
  },
  {
   "cell_type": "code",
   "execution_count": 16,
   "id": "f837f9e2",
   "metadata": {},
   "outputs": [
    {
     "name": "stdout",
     "output_type": "stream",
     "text": [
      "1051 rows with STATE equal to New York were written to New_York_GEOCODE.csv\n"
     ]
    }
   ],
   "source": [
    "# Define the input and output file paths\n",
    "input_csv = 'EDGE_GEOCODE_PUBLICLEA_1718.csv'  # Replace with the path to your input CSV file\n",
    "output_csv = 'New_York_GEOCODE.csv'  # Replace with the desired path for the output CSV file\n",
    "\n",
    "# Read the input CSV file into a DataFrame\n",
    "df = pd.read_csv(input_csv)\n",
    "\n",
    "# Filter the DataFrame to include only rows where STATE is equal to \"New York\"\n",
    "new_york_data = df[df['STATE'] == 'NY']\n",
    "\n",
    "# Write the filtered data to the output CSV file\n",
    "new_york_data.to_csv(output_csv, index=False)\n",
    "\n",
    "print(f'{len(new_york_data)} rows with STATE equal to New York were written to {output_csv}')"
   ]
  },
  {
   "cell_type": "code",
   "execution_count": 19,
   "id": "269507ed",
   "metadata": {},
   "outputs": [
    {
     "name": "stdout",
     "output_type": "stream",
     "text": [
      "799 rows with STATE equal to Pennsylvania were written to Pennsylvania_GEOCODE.csv\n"
     ]
    }
   ],
   "source": [
    "# Define the input and output file paths\n",
    "input_csv = 'EDGE_GEOCODE_PUBLICLEA_1718.csv'  # Replace with the path to your input CSV file\n",
    "output_csv = 'Pennsylvania_GEOCODE.csv'  # Replace with the desired path for the output CSV file\n",
    "\n",
    "# Read the input CSV file into a DataFrame\n",
    "df = pd.read_csv(input_csv)\n",
    "\n",
    "# Filter the DataFrame to include only rows where STATE is equal to \"Pennsylvania\"\n",
    "pennsylvania_data = df[df['STATE'] == 'PA']\n",
    "\n",
    "# Write the filtered data to the output CSV file\n",
    "pennsylvania_data.to_csv(output_csv, index=False)\n",
    "\n",
    "print(f'{len(pennsylvania_data)} rows with STATE equal to Pennsylvania were written to {output_csv}')"
   ]
  },
  {
   "cell_type": "code",
   "execution_count": null,
   "id": "1356a4a9",
   "metadata": {},
   "outputs": [],
   "source": []
  }
 ],
 "metadata": {
  "kernelspec": {
   "display_name": "Python 3 (ipykernel)",
   "language": "python",
   "name": "python3"
  },
  "language_info": {
   "codemirror_mode": {
    "name": "ipython",
    "version": 3
   },
   "file_extension": ".py",
   "mimetype": "text/x-python",
   "name": "python",
   "nbconvert_exporter": "python",
   "pygments_lexer": "ipython3",
   "version": "3.11.4"
  }
 },
 "nbformat": 4,
 "nbformat_minor": 5
}
